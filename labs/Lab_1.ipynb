{
 "cells": [
  {
   "cell_type": "code",
   "execution_count": 4,
   "id": "2a521e93",
   "metadata": {},
   "outputs": [],
   "source": [
    "import numpy as np\n",
    "import matplotlib.pyplot as plt\n",
    "\n"
   ]
  },
  {
   "cell_type": "code",
   "execution_count": 9,
   "id": "98dea287",
   "metadata": {},
   "outputs": [
    {
     "name": "stdout",
     "output_type": "stream",
     "text": [
      "The sum of v's elements is: 3\n"
     ]
    }
   ],
   "source": [
    "v=np.array([1,2])\n",
    "sum=np.sum(v)\n",
    "print(\"The sum of v's elements is:\", sum)"
   ]
  },
  {
   "cell_type": "code",
   "execution_count": 7,
   "id": "d0ab0eed",
   "metadata": {},
   "outputs": [
    {
     "name": "stdout",
     "output_type": "stream",
     "text": [
      "The transpose of A is:\n",
      "[[2 6]\n",
      " [3 5]]\n",
      "The result of A.dot(v) is:\n",
      "[ 8 16]\n"
     ]
    }
   ],
   "source": [
    "A=np.array([[2,3],[6,5]])\n",
    "At=np.transpose(A)\n",
    "print(\"The transpose of A is:\")\n",
    "print(At)\n",
    "av=A.dot(v)\n",
    "print(\"The result of A.dot(v) is:\")\n",
    "print(av)"
   ]
  },
  {
   "cell_type": "code",
   "execution_count": 11,
   "id": "2365d294",
   "metadata": {},
   "outputs": [
    {
     "name": "stdout",
     "output_type": "stream",
     "text": [
      "The eigenvalues of A are:\n",
      "[-1.  8.]\n",
      "The eigenvectors of A are:\n",
      "[[-0.70710678 -0.4472136 ]\n",
      " [ 0.70710678 -0.89442719]]\n"
     ]
    }
   ],
   "source": [
    "eigenvalues, eigenvectors = np.linalg.eig(A)\n",
    "print(\"The eigenvalues of A are:\")\n",
    "print(eigenvalues)\n",
    "print(\"The eigenvectors of A are:\")\n",
    "print(eigenvectors)\n",
    "eigen1 = eigenvalues[0]\n",
    "eigen2 = eigenvalues[1]\n",
    "eigenvec1 = eigenvectors[:,0]\n",
    "eigenvec2 = eigenvectors[:,1]"
   ]
  },
  {
   "cell_type": "code",
   "execution_count": 12,
   "id": "16f49c57",
   "metadata": {},
   "outputs": [
    {
     "name": "stdout",
     "output_type": "stream",
     "text": [
      "The matrix B=A*A is:\n",
      "[[ 4  9]\n",
      " [36 25]]\n",
      "The matrix C=A**2 is:\n",
      "[[ 4  9]\n",
      " [36 25]]\n"
     ]
    }
   ],
   "source": [
    "B=A*A\n",
    "print(\"The matrix B=A*A is:\")\n",
    "print(B)\n",
    "C=A**2\n",
    "print(\"The matrix C=A**2 is:\")\n",
    "print(C)\n"
   ]
  },
  {
   "cell_type": "code",
   "execution_count": 13,
   "id": "b723e6fd",
   "metadata": {},
   "outputs": [
    {
     "name": "stdout",
     "output_type": "stream",
     "text": [
      "The integral using trapezoidal rule is: 0.5\n"
     ]
    }
   ],
   "source": [
    "x=np.linspace(0,1,50)\n",
    "I=np.sin(np.pi*x)**2\n",
    "#using trapezoidal rule\n",
    "def trapezoidal(x,f):\n",
    "    n=len(x)\n",
    "    h=x[1]-x[0]\n",
    "    integral=(f[0]+f[n-1])/2\n",
    "    for i in range(1,n-1):\n",
    "        integral+=f[i]\n",
    "    integral=integral*h\n",
    "    return integral\n",
    "integral_trap=trapezoidal(x,I)\n",
    "print(\"The integral using trapezoidal rule is:\", integral_trap)\n"
   ]
  },
  {
   "cell_type": "code",
   "execution_count": null,
   "id": "2b4427c3",
   "metadata": {},
   "outputs": [],
   "source": []
  }
 ],
 "metadata": {
  "kernelspec": {
   "display_name": "Python 3",
   "language": "python",
   "name": "python3"
  },
  "language_info": {
   "codemirror_mode": {
    "name": "ipython",
    "version": 3
   },
   "file_extension": ".py",
   "mimetype": "text/x-python",
   "name": "python",
   "nbconvert_exporter": "python",
   "pygments_lexer": "ipython3",
   "version": "3.12.10"
  }
 },
 "nbformat": 4,
 "nbformat_minor": 5
}
